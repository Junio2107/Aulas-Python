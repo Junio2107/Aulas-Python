{
 "cells": [
  {
   "cell_type": "markdown",
   "metadata": {},
   "source": [
    "# List Comprehension não serve só para criar uma lista, serve para qualquer ação em iterable\n",
    "\n",
    "### Exemplo:"
   ]
  },
  {
   "cell_type": "markdown",
   "metadata": {},
   "source": [
    "- Vamos calcular quantos % das vendas o meu top 5 produtos representa das vendas totais"
   ]
  },
  {
   "cell_type": "code",
   "execution_count": 6,
   "metadata": {},
   "outputs": [
    {
     "name": "stdout",
     "output_type": "stream",
     "text": [
      "8461\n",
      "50.63%\n"
     ]
    }
   ],
   "source": [
    "produtos = ['coca', 'pepsi', 'guarana', 'skol', 'brahma', 'agua', 'del valle', 'dolly', 'red bull', 'cachaça', 'vinho tinto', 'vodka', 'vinho branco', 'tequila', 'champagne', 'gin', 'guaracamp', 'matte', 'leite de castanha', 'leite', 'jurupinga', 'sprite', 'fanta']\n",
    "vendas = [1200, 300, 800, 1500, 1900, 2750, 400, 20, 23, 70, 90, 80, 1100, 999, 900, 880, 870, 50, 1111, 120, 300, 450, 800]\n",
    "top5 = ['agua', 'brahma', 'skol', 'coca', 'leite de castanha']\n",
    "\n",
    "total_top5 = sum(vendas[i] for i, produto in enumerate(produtos) if produto in top5)\n",
    "print(total_top5)\n",
    "print('{:.2%}'.format(total_top5/sum(vendas)))"
   ]
  },
  {
   "cell_type": "markdown",
   "metadata": {},
   "source": [
    "- Fazendo por for"
   ]
  },
  {
   "cell_type": "code",
   "execution_count": 7,
   "metadata": {},
   "outputs": [
    {
     "name": "stdout",
     "output_type": "stream",
     "text": [
      "8461\n",
      "Top 5 representou 50.6% das vendas\n"
     ]
    }
   ],
   "source": [
    "\n",
    "print(total_top5)\n",
    "print('Top 5 representou {:0.1%} das vendas'.format(total_top5/sum(vendas)))"
   ]
  },
  {
   "cell_type": "markdown",
   "metadata": {},
   "source": [
    "- Fazendo por list comprehension"
   ]
  },
  {
   "cell_type": "code",
   "execution_count": 8,
   "metadata": {},
   "outputs": [
    {
     "name": "stdout",
     "output_type": "stream",
     "text": [
      "8461\n",
      "Top 5 representou 50.6% das vendas\n"
     ]
    }
   ],
   "source": [
    "print(total_top5)\n",
    "print('Top 5 representou {:0.1%} das vendas'.format(total_top5/sum(vendas)))"
   ]
  },
  {
   "cell_type": "code",
   "execution_count": 27,
   "metadata": {},
   "outputs": [
    {
     "name": "stdout",
     "output_type": "stream",
     "text": [
      "23\n",
      "23\n",
      "['coca', 'pepsi', 'guarana', 'skol', 'brahma', 'agua', 'del valle', 'dolly', 'red bull', 'cachaça', 'vinho tinto', 'vodka', 'vinho branco', 'tequila', 'champagne', 'gin', 'guaracamp', 'matte', 'leite de castanha', 'leite', 'jurupinga', 'sprite', 'fanta']\n",
      "[2750, 1900, 1500, 1200, 1111, 1100, 999, 900, 880, 870, 800, 800, 450, 400, 300, 300, 120, 90, 80, 70, 50, 23, 20]\n"
     ]
    }
   ],
   "source": [
    "produtos = ['coca', 'pepsi', 'guarana', 'skol', 'brahma', 'agua', 'del valle', 'dolly', 'red bull', 'cachaça', 'vinho tinto', 'vodka', 'vinho branco', 'tequila', 'champagne', 'gin', 'guaracamp', 'matte', 'leite de castanha', 'leite', 'jurupinga', 'sprite', 'fanta']\n",
    "vendas = [1200, 300, 800, 1500, 1900, 2750, 400, 20, 23, 70, 90, 80, 1100, 999, 900, 880, 870, 50, 1111, 120, 300, 450, 800]\n",
    "print(len(produtos))\n",
    "print(len(vendas))\n",
    "\n",
    "newlist = [produtos[i] for i, venda in enumerate(vendas)]\n",
    "\n",
    "print(newlist)\n",
    "vendas.sort(reverse=True)\n",
    "print(vendas)\n"
   ]
  },
  {
   "cell_type": "code",
   "execution_count": 81,
   "metadata": {},
   "outputs": [
    {
     "name": "stdout",
     "output_type": "stream",
     "text": [
      "8461\n",
      "50.63%\n"
     ]
    }
   ],
   "source": [
    "produtos = ['coca', 'pepsi', 'guarana', 'skol', 'brahma', 'agua', 'del valle', 'dolly', 'red bull', 'cachaça', 'vinho tinto', 'vodka', 'vinho branco', 'tequila', 'champagne', 'gin', 'guaracamp', 'matte', 'leite de castanha', 'leite', 'jurupinga', 'sprite', 'fanta']\n",
    "vendas = [1200, 300, 800, 1500, 1900, 2750, 400, 20, 23, 70, 90, 80, 1100, 999, 900, 880, 870, 50, 1111, 120, 300, 450, 800]\n",
    "newone = list(zip(vendas,produtos))\n",
    "newone.sort(reverse=True)\n",
    "top5sellers = newone[:5]\n",
    "#top5sellers = [newone[i] for i in range(5)]\n",
    "produto5 = [produto for valor, produto in top5sellers]\n",
    "total_top5 = sum(vendas[i] for i, produto in enumerate(produtos) if produto in produto5)\n",
    "print(total_top5)\n",
    "print('{:.2%}'.format(total_top5/sum(vendas)))\n"
   ]
  },
  {
   "cell_type": "code",
   "execution_count": 77,
   "metadata": {},
   "outputs": [
    {
     "name": "stdout",
     "output_type": "stream",
     "text": [
      "8461\n",
      "50.63%\n"
     ]
    }
   ],
   "source": [
    "produtos = ['coca', 'pepsi', 'guarana', 'skol', 'brahma', 'agua', 'del valle', 'dolly', 'red bull', 'cachaça', 'vinho tinto', 'vodka', 'vinho branco', 'tequila', 'champagne', 'gin', 'guaracamp', 'matte', 'leite de castanha', 'leite', 'jurupinga', 'sprite', 'fanta']\n",
    "vendas = [1200, 300, 800, 1500, 1900, 2750, 400, 20, 23, 70, 90, 80, 1100, 999, 900, 880, 870, 50, 1111, 120, 300, 450, 800]\n",
    "newone = list(zip(vendas,produtos))\n",
    "newone.sort(reverse=True)\n",
    "top5sellers = newone[:5]\n",
    "produto5 = [produto for valor, produto in top5sellers]\n",
    "total_top5 = sum(vendas[i] for i, produto in enumerate(produtos) if produto in produto5)\n",
    "print(total_top5)\n",
    "print('{:.2%}'.format(total_top5/sum(vendas)))\n",
    "\n"
   ]
  },
  {
   "cell_type": "code",
   "execution_count": 111,
   "metadata": {},
   "outputs": [
    {
     "name": "stdout",
     "output_type": "stream",
     "text": [
      "[('cerveja', 180), ('leite', 150), ('cafe', 100)]\n",
      "[130.0, 195.0, 234.0]\n"
     ]
    }
   ],
   "source": [
    "def segundo_item(tupla):\n",
    "    return tupla[1]\n",
    "\n",
    "vendas_produtos = { 'cafe' : 100 , 'leite' : 150 , 'cerveja' : 180 }\n",
    "lista_vendas = list(vendas_produtos.items())\n",
    "lista_vendas.sort(key=segundo_item,reverse=True)\n",
    "print(lista_vendas)\n",
    "\n",
    "#acrescentar 30% de imposto usando def\n",
    "def vendas_com_imposto(preco):\n",
    "    return preco * 1.3\n",
    "vendas_imposto = list(map(vendas_com_imposto, vendas_produtos.values()))\n",
    "\n",
    "#print(vendas_imposto)\n",
    "\n",
    "#acrescentar 30% de imposto usando lambda\n",
    "vendas_imposto2 = list(map(lambda preco: preco * 1.3, vendas_produtos.values()))\n",
    "print(vendas_imposto2)"
   ]
  }
 ],
 "metadata": {
  "kernelspec": {
   "display_name": "base",
   "language": "python",
   "name": "python3"
  },
  "language_info": {
   "codemirror_mode": {
    "name": "ipython",
    "version": 3
   },
   "file_extension": ".py",
   "mimetype": "text/x-python",
   "name": "python",
   "nbconvert_exporter": "python",
   "pygments_lexer": "ipython3",
   "version": "3.9.13"
  },
  "vscode": {
   "interpreter": {
    "hash": "ad2bdc8ecc057115af97d19610ffacc2b4e99fae6737bb82f5d7fb13d2f2c186"
   }
  }
 },
 "nbformat": 4,
 "nbformat_minor": 4
}
