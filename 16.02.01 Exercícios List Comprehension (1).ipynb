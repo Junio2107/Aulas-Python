{
 "cells": [
  {
   "cell_type": "markdown",
   "metadata": {},
   "source": [
    "# Exercícios\n",
    "\n",
    "## 1. Tirando informações de listas e dicionários\n",
    "\n",
    "Digamos que você está analisando as vendas de produtos de uma empresa de varejo.\n",
    "\n",
    "Essa lista tem: (produto, vendas de 2019, vendas de 2020) para cada produto.\n",
    "\n",
    "Crie uma lista com as vendas de 2019."
   ]
  },
  {
   "cell_type": "code",
   "execution_count": 16,
   "metadata": {},
   "outputs": [
    {
     "name": "stdout",
     "output_type": "stream",
     "text": [
      "[973139, 892292, 887061, 718654, 712350, 591120, 573823, 558147, 531580, 489705, 438508, 422760, 405252, 328311, 237467, 154753]\n",
      "[973139, 892292, 887061, 718654, 712350, 591120, 573823, 558147, 531580, 489705, 438508, 422760, 405252, 328311, 237467, 154753]\n",
      "973139\n"
     ]
    }
   ],
   "source": [
    "vendas_produtos = [('iphone', 558147, 951642), ('galaxy', 712350, 244295), ('ipad', 573823, 26964), ('tv', 405252, 787604), ('máquina de café', 718654, 867660), ('kindle', 531580, 78830), ('geladeira', 973139, 710331), ('adega', 892292, 646016), ('notebook dell', 422760, 694913), ('notebook hp', 154753, 539704), ('notebook asus', 887061, 324831), ('microsoft surface', 438508, 667179), ('webcam', 237467, 295633), ('caixa de som', 489705, 725316), ('microfone', 328311, 644622), ('câmera canon', 591120, 994303)]\n",
    "lista_vendas_2019 = []\n",
    "for produto, vendas_2019, vendas_2020 in vendas_produtos:\n",
    "    lista_vendas_2019.append(vendas_2019)\n",
    "    lista_vendas_2019.sort(reverse=True)\n",
    "\n",
    "lista_vendas_2019_2 = [vendas_2019 for produto, vendas_2019, vendas_2020 in vendas_produtos ]\n",
    "lista_vendas_2019_2.sort(reverse=True)\n",
    "max_2019 = max(lista_vendas_2019_2)\n",
    "print(lista_vendas_2019)\n",
    "print(lista_vendas_2019_2)\n",
    "print(max_2019)\n"
   ]
  },
  {
   "cell_type": "markdown",
   "metadata": {},
   "source": [
    "- Agora, qual o maior valor de vendas de 2019?"
   ]
  },
  {
   "cell_type": "code",
   "execution_count": 17,
   "metadata": {},
   "outputs": [
    {
     "name": "stdout",
     "output_type": "stream",
     "text": [
      "973139\n"
     ]
    }
   ],
   "source": [
    "print(max_2019)"
   ]
  },
  {
   "cell_type": "markdown",
   "metadata": {},
   "source": [
    "- E se eu quisesse descobrir o produto que mais vendeu em 2019?\n",
    "Temos 2 formas de fazer, refazendo o list comprehension ou consultando a lista original"
   ]
  },
  {
   "cell_type": "code",
   "execution_count": 21,
   "metadata": {},
   "outputs": [
    {
     "name": "stdout",
     "output_type": "stream",
     "text": [
      "(887061, 'notebook asus')\n"
     ]
    }
   ],
   "source": [
    "lista_vendas_2019_2 = [(vendas_2019,produto) for produto, vendas_2019, vendas_2020 in vendas_produtos if produto != 'geladeira' and produto != 'adega'  ]\n",
    "print(max(lista_vendas_2019_2))"
   ]
  }
 ],
 "metadata": {
  "kernelspec": {
   "display_name": "base",
   "language": "python",
   "name": "python3"
  },
  "language_info": {
   "codemirror_mode": {
    "name": "ipython",
    "version": 3
   },
   "file_extension": ".py",
   "mimetype": "text/x-python",
   "name": "python",
   "nbconvert_exporter": "python",
   "pygments_lexer": "ipython3",
   "version": "3.9.13"
  },
  "vscode": {
   "interpreter": {
    "hash": "ad2bdc8ecc057115af97d19610ffacc2b4e99fae6737bb82f5d7fb13d2f2c186"
   }
  }
 },
 "nbformat": 4,
 "nbformat_minor": 4
}
